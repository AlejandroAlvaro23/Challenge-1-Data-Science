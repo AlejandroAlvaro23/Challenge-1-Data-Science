{
  "nbformat": 4,
  "nbformat_minor": 0,
  "metadata": {
    "colab": {
      "provenance": [],
      "include_colab_link": true
    },
    "kernelspec": {
      "name": "python3",
      "display_name": "Python 3"
    },
    "language_info": {
      "name": "python"
    }
  },
  "cells": [
    {
      "cell_type": "markdown",
      "metadata": {
        "id": "view-in-github",
        "colab_type": "text"
      },
      "source": [
        "<a href=\"https://colab.research.google.com/github/AlejandroAlvaro23/Challenge-1-Data-Science/blob/main/AluraStoreBr.ipynb\" target=\"_parent\"><img src=\"https://colab.research.google.com/assets/colab-badge.svg\" alt=\"Open In Colab\"/></a>"
      ]
    },
    {
      "cell_type": "markdown",
      "source": [
        "### Importação dos dados\n",
        "\n"
      ],
      "metadata": {
        "id": "RhEdWd9YUR6H"
      }
    },
    {
      "cell_type": "code",
      "execution_count": null,
      "metadata": {
        "colab": {
          "base_uri": "https://localhost:8080/",
          "height": 365
        },
        "id": "T3EvaeQ_INIL",
        "outputId": "531a073d-f4b9-4a94-b88c-1a017f15d663"
      },
      "outputs": [
        {
          "output_type": "execute_result",
          "data": {
            "text/plain": [
              "                 Produto Categoria do Produto    Preço      Frete  \\\n",
              "0     Assistente virtual          eletronicos   219.08   9.249790   \n",
              "1         Mesa de jantar               moveis   256.35  11.234305   \n",
              "2      Jogo de tabuleiro           brinquedos   279.51  21.262681   \n",
              "3            Micro-ondas     eletrodomesticos  1009.99  54.667344   \n",
              "4  Cadeira de escritório               moveis   446.99  26.964689   \n",
              "\n",
              "  Data da Compra        Vendedor Local da compra  Avaliação da compra  \\\n",
              "0     16/01/2021     Pedro Gomes              SP                    4   \n",
              "1     18/05/2022  Beatriz Moraes              RJ                    1   \n",
              "2     15/03/2021      João Souza              DF                    1   \n",
              "3     03/05/2022      João Souza              RS                    4   \n",
              "4     07/11/2020   Larissa Alves              MG                    5   \n",
              "\n",
              "  Tipo de pagamento  Quantidade de parcelas    lat    lon  \n",
              "0    cartao_credito                       8 -22.19 -48.79  \n",
              "1    cartao_credito                       4 -22.25 -42.66  \n",
              "2    cartao_credito                       1 -15.83 -47.86  \n",
              "3            boleto                       1 -30.17 -53.50  \n",
              "4            boleto                       1 -18.10 -44.38  "
            ],
            "text/html": [
              "\n",
              "  <div id=\"df-98333f14-7832-4e05-b497-fb472713e704\" class=\"colab-df-container\">\n",
              "    <div>\n",
              "<style scoped>\n",
              "    .dataframe tbody tr th:only-of-type {\n",
              "        vertical-align: middle;\n",
              "    }\n",
              "\n",
              "    .dataframe tbody tr th {\n",
              "        vertical-align: top;\n",
              "    }\n",
              "\n",
              "    .dataframe thead th {\n",
              "        text-align: right;\n",
              "    }\n",
              "</style>\n",
              "<table border=\"1\" class=\"dataframe\">\n",
              "  <thead>\n",
              "    <tr style=\"text-align: right;\">\n",
              "      <th></th>\n",
              "      <th>Produto</th>\n",
              "      <th>Categoria do Produto</th>\n",
              "      <th>Preço</th>\n",
              "      <th>Frete</th>\n",
              "      <th>Data da Compra</th>\n",
              "      <th>Vendedor</th>\n",
              "      <th>Local da compra</th>\n",
              "      <th>Avaliação da compra</th>\n",
              "      <th>Tipo de pagamento</th>\n",
              "      <th>Quantidade de parcelas</th>\n",
              "      <th>lat</th>\n",
              "      <th>lon</th>\n",
              "    </tr>\n",
              "  </thead>\n",
              "  <tbody>\n",
              "    <tr>\n",
              "      <th>0</th>\n",
              "      <td>Assistente virtual</td>\n",
              "      <td>eletronicos</td>\n",
              "      <td>219.08</td>\n",
              "      <td>9.249790</td>\n",
              "      <td>16/01/2021</td>\n",
              "      <td>Pedro Gomes</td>\n",
              "      <td>SP</td>\n",
              "      <td>4</td>\n",
              "      <td>cartao_credito</td>\n",
              "      <td>8</td>\n",
              "      <td>-22.19</td>\n",
              "      <td>-48.79</td>\n",
              "    </tr>\n",
              "    <tr>\n",
              "      <th>1</th>\n",
              "      <td>Mesa de jantar</td>\n",
              "      <td>moveis</td>\n",
              "      <td>256.35</td>\n",
              "      <td>11.234305</td>\n",
              "      <td>18/05/2022</td>\n",
              "      <td>Beatriz Moraes</td>\n",
              "      <td>RJ</td>\n",
              "      <td>1</td>\n",
              "      <td>cartao_credito</td>\n",
              "      <td>4</td>\n",
              "      <td>-22.25</td>\n",
              "      <td>-42.66</td>\n",
              "    </tr>\n",
              "    <tr>\n",
              "      <th>2</th>\n",
              "      <td>Jogo de tabuleiro</td>\n",
              "      <td>brinquedos</td>\n",
              "      <td>279.51</td>\n",
              "      <td>21.262681</td>\n",
              "      <td>15/03/2021</td>\n",
              "      <td>João Souza</td>\n",
              "      <td>DF</td>\n",
              "      <td>1</td>\n",
              "      <td>cartao_credito</td>\n",
              "      <td>1</td>\n",
              "      <td>-15.83</td>\n",
              "      <td>-47.86</td>\n",
              "    </tr>\n",
              "    <tr>\n",
              "      <th>3</th>\n",
              "      <td>Micro-ondas</td>\n",
              "      <td>eletrodomesticos</td>\n",
              "      <td>1009.99</td>\n",
              "      <td>54.667344</td>\n",
              "      <td>03/05/2022</td>\n",
              "      <td>João Souza</td>\n",
              "      <td>RS</td>\n",
              "      <td>4</td>\n",
              "      <td>boleto</td>\n",
              "      <td>1</td>\n",
              "      <td>-30.17</td>\n",
              "      <td>-53.50</td>\n",
              "    </tr>\n",
              "    <tr>\n",
              "      <th>4</th>\n",
              "      <td>Cadeira de escritório</td>\n",
              "      <td>moveis</td>\n",
              "      <td>446.99</td>\n",
              "      <td>26.964689</td>\n",
              "      <td>07/11/2020</td>\n",
              "      <td>Larissa Alves</td>\n",
              "      <td>MG</td>\n",
              "      <td>5</td>\n",
              "      <td>boleto</td>\n",
              "      <td>1</td>\n",
              "      <td>-18.10</td>\n",
              "      <td>-44.38</td>\n",
              "    </tr>\n",
              "  </tbody>\n",
              "</table>\n",
              "</div>\n",
              "    <div class=\"colab-df-buttons\">\n",
              "\n",
              "  <div class=\"colab-df-container\">\n",
              "    <button class=\"colab-df-convert\" onclick=\"convertToInteractive('df-98333f14-7832-4e05-b497-fb472713e704')\"\n",
              "            title=\"Convert this dataframe to an interactive table.\"\n",
              "            style=\"display:none;\">\n",
              "\n",
              "  <svg xmlns=\"http://www.w3.org/2000/svg\" height=\"24px\" viewBox=\"0 -960 960 960\">\n",
              "    <path d=\"M120-120v-720h720v720H120Zm60-500h600v-160H180v160Zm220 220h160v-160H400v160Zm0 220h160v-160H400v160ZM180-400h160v-160H180v160Zm440 0h160v-160H620v160ZM180-180h160v-160H180v160Zm440 0h160v-160H620v160Z\"/>\n",
              "  </svg>\n",
              "    </button>\n",
              "\n",
              "  <style>\n",
              "    .colab-df-container {\n",
              "      display:flex;\n",
              "      gap: 12px;\n",
              "    }\n",
              "\n",
              "    .colab-df-convert {\n",
              "      background-color: #E8F0FE;\n",
              "      border: none;\n",
              "      border-radius: 50%;\n",
              "      cursor: pointer;\n",
              "      display: none;\n",
              "      fill: #1967D2;\n",
              "      height: 32px;\n",
              "      padding: 0 0 0 0;\n",
              "      width: 32px;\n",
              "    }\n",
              "\n",
              "    .colab-df-convert:hover {\n",
              "      background-color: #E2EBFA;\n",
              "      box-shadow: 0px 1px 2px rgba(60, 64, 67, 0.3), 0px 1px 3px 1px rgba(60, 64, 67, 0.15);\n",
              "      fill: #174EA6;\n",
              "    }\n",
              "\n",
              "    .colab-df-buttons div {\n",
              "      margin-bottom: 4px;\n",
              "    }\n",
              "\n",
              "    [theme=dark] .colab-df-convert {\n",
              "      background-color: #3B4455;\n",
              "      fill: #D2E3FC;\n",
              "    }\n",
              "\n",
              "    [theme=dark] .colab-df-convert:hover {\n",
              "      background-color: #434B5C;\n",
              "      box-shadow: 0px 1px 3px 1px rgba(0, 0, 0, 0.15);\n",
              "      filter: drop-shadow(0px 1px 2px rgba(0, 0, 0, 0.3));\n",
              "      fill: #FFFFFF;\n",
              "    }\n",
              "  </style>\n",
              "\n",
              "    <script>\n",
              "      const buttonEl =\n",
              "        document.querySelector('#df-98333f14-7832-4e05-b497-fb472713e704 button.colab-df-convert');\n",
              "      buttonEl.style.display =\n",
              "        google.colab.kernel.accessAllowed ? 'block' : 'none';\n",
              "\n",
              "      async function convertToInteractive(key) {\n",
              "        const element = document.querySelector('#df-98333f14-7832-4e05-b497-fb472713e704');\n",
              "        const dataTable =\n",
              "          await google.colab.kernel.invokeFunction('convertToInteractive',\n",
              "                                                    [key], {});\n",
              "        if (!dataTable) return;\n",
              "\n",
              "        const docLinkHtml = 'Like what you see? Visit the ' +\n",
              "          '<a target=\"_blank\" href=https://colab.research.google.com/notebooks/data_table.ipynb>data table notebook</a>'\n",
              "          + ' to learn more about interactive tables.';\n",
              "        element.innerHTML = '';\n",
              "        dataTable['output_type'] = 'display_data';\n",
              "        await google.colab.output.renderOutput(dataTable, element);\n",
              "        const docLink = document.createElement('div');\n",
              "        docLink.innerHTML = docLinkHtml;\n",
              "        element.appendChild(docLink);\n",
              "      }\n",
              "    </script>\n",
              "  </div>\n",
              "\n",
              "\n",
              "    <div id=\"df-9016b8fd-ecd7-456e-b5eb-ef9080dae280\">\n",
              "      <button class=\"colab-df-quickchart\" onclick=\"quickchart('df-9016b8fd-ecd7-456e-b5eb-ef9080dae280')\"\n",
              "                title=\"Suggest charts\"\n",
              "                style=\"display:none;\">\n",
              "\n",
              "<svg xmlns=\"http://www.w3.org/2000/svg\" height=\"24px\"viewBox=\"0 0 24 24\"\n",
              "     width=\"24px\">\n",
              "    <g>\n",
              "        <path d=\"M19 3H5c-1.1 0-2 .9-2 2v14c0 1.1.9 2 2 2h14c1.1 0 2-.9 2-2V5c0-1.1-.9-2-2-2zM9 17H7v-7h2v7zm4 0h-2V7h2v10zm4 0h-2v-4h2v4z\"/>\n",
              "    </g>\n",
              "</svg>\n",
              "      </button>\n",
              "\n",
              "<style>\n",
              "  .colab-df-quickchart {\n",
              "      --bg-color: #E8F0FE;\n",
              "      --fill-color: #1967D2;\n",
              "      --hover-bg-color: #E2EBFA;\n",
              "      --hover-fill-color: #174EA6;\n",
              "      --disabled-fill-color: #AAA;\n",
              "      --disabled-bg-color: #DDD;\n",
              "  }\n",
              "\n",
              "  [theme=dark] .colab-df-quickchart {\n",
              "      --bg-color: #3B4455;\n",
              "      --fill-color: #D2E3FC;\n",
              "      --hover-bg-color: #434B5C;\n",
              "      --hover-fill-color: #FFFFFF;\n",
              "      --disabled-bg-color: #3B4455;\n",
              "      --disabled-fill-color: #666;\n",
              "  }\n",
              "\n",
              "  .colab-df-quickchart {\n",
              "    background-color: var(--bg-color);\n",
              "    border: none;\n",
              "    border-radius: 50%;\n",
              "    cursor: pointer;\n",
              "    display: none;\n",
              "    fill: var(--fill-color);\n",
              "    height: 32px;\n",
              "    padding: 0;\n",
              "    width: 32px;\n",
              "  }\n",
              "\n",
              "  .colab-df-quickchart:hover {\n",
              "    background-color: var(--hover-bg-color);\n",
              "    box-shadow: 0 1px 2px rgba(60, 64, 67, 0.3), 0 1px 3px 1px rgba(60, 64, 67, 0.15);\n",
              "    fill: var(--button-hover-fill-color);\n",
              "  }\n",
              "\n",
              "  .colab-df-quickchart-complete:disabled,\n",
              "  .colab-df-quickchart-complete:disabled:hover {\n",
              "    background-color: var(--disabled-bg-color);\n",
              "    fill: var(--disabled-fill-color);\n",
              "    box-shadow: none;\n",
              "  }\n",
              "\n",
              "  .colab-df-spinner {\n",
              "    border: 2px solid var(--fill-color);\n",
              "    border-color: transparent;\n",
              "    border-bottom-color: var(--fill-color);\n",
              "    animation:\n",
              "      spin 1s steps(1) infinite;\n",
              "  }\n",
              "\n",
              "  @keyframes spin {\n",
              "    0% {\n",
              "      border-color: transparent;\n",
              "      border-bottom-color: var(--fill-color);\n",
              "      border-left-color: var(--fill-color);\n",
              "    }\n",
              "    20% {\n",
              "      border-color: transparent;\n",
              "      border-left-color: var(--fill-color);\n",
              "      border-top-color: var(--fill-color);\n",
              "    }\n",
              "    30% {\n",
              "      border-color: transparent;\n",
              "      border-left-color: var(--fill-color);\n",
              "      border-top-color: var(--fill-color);\n",
              "      border-right-color: var(--fill-color);\n",
              "    }\n",
              "    40% {\n",
              "      border-color: transparent;\n",
              "      border-right-color: var(--fill-color);\n",
              "      border-top-color: var(--fill-color);\n",
              "    }\n",
              "    60% {\n",
              "      border-color: transparent;\n",
              "      border-right-color: var(--fill-color);\n",
              "    }\n",
              "    80% {\n",
              "      border-color: transparent;\n",
              "      border-right-color: var(--fill-color);\n",
              "      border-bottom-color: var(--fill-color);\n",
              "    }\n",
              "    90% {\n",
              "      border-color: transparent;\n",
              "      border-bottom-color: var(--fill-color);\n",
              "    }\n",
              "  }\n",
              "</style>\n",
              "\n",
              "      <script>\n",
              "        async function quickchart(key) {\n",
              "          const quickchartButtonEl =\n",
              "            document.querySelector('#' + key + ' button');\n",
              "          quickchartButtonEl.disabled = true;  // To prevent multiple clicks.\n",
              "          quickchartButtonEl.classList.add('colab-df-spinner');\n",
              "          try {\n",
              "            const charts = await google.colab.kernel.invokeFunction(\n",
              "                'suggestCharts', [key], {});\n",
              "          } catch (error) {\n",
              "            console.error('Error during call to suggestCharts:', error);\n",
              "          }\n",
              "          quickchartButtonEl.classList.remove('colab-df-spinner');\n",
              "          quickchartButtonEl.classList.add('colab-df-quickchart-complete');\n",
              "        }\n",
              "        (() => {\n",
              "          let quickchartButtonEl =\n",
              "            document.querySelector('#df-9016b8fd-ecd7-456e-b5eb-ef9080dae280 button');\n",
              "          quickchartButtonEl.style.display =\n",
              "            google.colab.kernel.accessAllowed ? 'block' : 'none';\n",
              "        })();\n",
              "      </script>\n",
              "    </div>\n",
              "\n",
              "    </div>\n",
              "  </div>\n"
            ],
            "application/vnd.google.colaboratory.intrinsic+json": {
              "type": "dataframe",
              "variable_name": "loja",
              "summary": "{\n  \"name\": \"loja\",\n  \"rows\": 2359,\n  \"fields\": [\n    {\n      \"column\": \"Produto\",\n      \"properties\": {\n        \"dtype\": \"category\",\n        \"num_unique_values\": 51,\n        \"samples\": [\n          \"Viol\\u00e3o\",\n          \"Bola de basquete\",\n          \"Smartwatch\"\n        ],\n        \"semantic_type\": \"\",\n        \"description\": \"\"\n      }\n    },\n    {\n      \"column\": \"Categoria do Produto\",\n      \"properties\": {\n        \"dtype\": \"category\",\n        \"num_unique_values\": 8,\n        \"samples\": [\n          \"moveis\",\n          \"esporte e lazer\",\n          \"eletronicos\"\n        ],\n        \"semantic_type\": \"\",\n        \"description\": \"\"\n      }\n    },\n    {\n      \"column\": \"Pre\\u00e7o\",\n      \"properties\": {\n        \"dtype\": \"number\",\n        \"std\": 819.5827782539145,\n        \"min\": 10.07,\n        \"max\": 3969.38,\n        \"num_unique_values\": 2315,\n        \"samples\": [\n          446.11,\n          107.31,\n          65.86\n        ],\n        \"semantic_type\": \"\",\n        \"description\": \"\"\n      }\n    },\n    {\n      \"column\": \"Frete\",\n      \"properties\": {\n        \"dtype\": \"number\",\n        \"std\": 43.814183327408166,\n        \"min\": 0.0,\n        \"max\": 214.3770604781,\n        \"num_unique_values\": 2149,\n        \"samples\": [\n          83.815279607,\n          16.069664669,\n          14.0344876928\n        ],\n        \"semantic_type\": \"\",\n        \"description\": \"\"\n      }\n    },\n    {\n      \"column\": \"Data da Compra\",\n      \"properties\": {\n        \"dtype\": \"object\",\n        \"num_unique_values\": 1018,\n        \"samples\": [\n          \"15/09/2022\",\n          \"03/06/2020\",\n          \"06/11/2021\"\n        ],\n        \"semantic_type\": \"\",\n        \"description\": \"\"\n      }\n    },\n    {\n      \"column\": \"Vendedor\",\n      \"properties\": {\n        \"dtype\": \"category\",\n        \"num_unique_values\": 14,\n        \"samples\": [\n          \"Juliana Costa\",\n          \"Mariana Ferreira\",\n          \"Pedro Gomes\"\n        ],\n        \"semantic_type\": \"\",\n        \"description\": \"\"\n      }\n    },\n    {\n      \"column\": \"Local da compra\",\n      \"properties\": {\n        \"dtype\": \"category\",\n        \"num_unique_values\": 26,\n        \"samples\": [\n          \"TO\",\n          \"RN\",\n          \"SP\"\n        ],\n        \"semantic_type\": \"\",\n        \"description\": \"\"\n      }\n    },\n    {\n      \"column\": \"Avalia\\u00e7\\u00e3o da compra\",\n      \"properties\": {\n        \"dtype\": \"number\",\n        \"std\": 1,\n        \"min\": 1,\n        \"max\": 5,\n        \"num_unique_values\": 5,\n        \"samples\": [\n          1,\n          2,\n          5\n        ],\n        \"semantic_type\": \"\",\n        \"description\": \"\"\n      }\n    },\n    {\n      \"column\": \"Tipo de pagamento\",\n      \"properties\": {\n        \"dtype\": \"category\",\n        \"num_unique_values\": 4,\n        \"samples\": [\n          \"boleto\",\n          \"cartao_debito\",\n          \"cartao_credito\"\n        ],\n        \"semantic_type\": \"\",\n        \"description\": \"\"\n      }\n    },\n    {\n      \"column\": \"Quantidade de parcelas\",\n      \"properties\": {\n        \"dtype\": \"number\",\n        \"std\": 2,\n        \"min\": 1,\n        \"max\": 24,\n        \"num_unique_values\": 15,\n        \"samples\": [\n          7,\n          14,\n          8\n        ],\n        \"semantic_type\": \"\",\n        \"description\": \"\"\n      }\n    },\n    {\n      \"column\": \"lat\",\n      \"properties\": {\n        \"dtype\": \"number\",\n        \"std\": 5.372399916530833,\n        \"min\": -30.17,\n        \"max\": 1.41,\n        \"num_unique_values\": 26,\n        \"samples\": [\n          -9.46,\n          -5.81,\n          -22.19\n        ],\n        \"semantic_type\": \"\",\n        \"description\": \"\"\n      }\n    },\n    {\n      \"column\": \"lon\",\n      \"properties\": {\n        \"dtype\": \"number\",\n        \"std\": 4.183180020544179,\n        \"min\": -70.55,\n        \"max\": -36.59,\n        \"num_unique_values\": 26,\n        \"samples\": [\n          -48.26,\n          -36.59,\n          -48.79\n        ],\n        \"semantic_type\": \"\",\n        \"description\": \"\"\n      }\n    }\n  ]\n}"
            }
          },
          "metadata": {},
          "execution_count": 2
        }
      ],
      "source": [
        "import pandas as pd\n",
        "\n",
        "url = \"https://raw.githubusercontent.com/alura-es-cursos/challenge1-data-science/refs/heads/main/base-de-dados-challenge-1/loja_1.csv\"\n",
        "url2 = \"https://raw.githubusercontent.com/alura-es-cursos/challenge1-data-science/refs/heads/main/base-de-dados-challenge-1/loja_2.csv\"\n",
        "url3 = \"https://raw.githubusercontent.com/alura-es-cursos/challenge1-data-science/refs/heads/main/base-de-dados-challenge-1/loja_3.csv\"\n",
        "url4 = \"https://raw.githubusercontent.com/alura-es-cursos/challenge1-data-science/refs/heads/main/base-de-dados-challenge-1/loja_4.csv\"\n",
        "\n",
        "loja = pd.read_csv(url)\n",
        "loja2 = pd.read_csv(url2)\n",
        "loja3 = pd.read_csv(url3)\n",
        "loja4 = pd.read_csv(url4)\n",
        "\n",
        "loja.head()"
      ]
    },
    {
      "cell_type": "markdown",
      "source": [
        "#1. Análise do faturamento\n"
      ],
      "metadata": {
        "id": "X62IW3KFUIYm"
      }
    },
    {
      "cell_type": "code",
      "source": [
        "from urllib.request import urlopen\n",
        "import csv\n",
        "\n",
        "urls = [url, url2, url3, url4]\n",
        "\n",
        "def leer_csv(url):\n",
        "    datos = []\n",
        "    with urlopen(url) as respuesta:\n",
        "        lineas = respuesta.read().decode('utf-8').splitlines()\n",
        "        lector = csv.DictReader(lineas)\n",
        "        for fila in lector:\n",
        "            datos.append(fila)\n",
        "    return datos\n",
        "\n",
        "total_facturacion = 0\n",
        "\n",
        "for i, url in enumerate(urls):\n",
        "    datos_tienda = leer_csv(url)\n",
        "    facturacion_tienda = 0\n",
        "\n",
        "    for venta in datos_tienda:\n",
        "       precio = float(venta['Preço'])\n",
        "       facturacion_tienda += precio\n",
        "\n",
        "    print(f\"Facturación Tienda {i+1}: ${facturacion_tienda:.2f}\")\n",
        "    total_facturacion += facturacion_tienda\n",
        "\n",
        "print(f\"\\nFacturación total de todas las tiendas: ${total_facturacion:.2f}\")"
      ],
      "metadata": {
        "id": "xykobSftV64I",
        "colab": {
          "base_uri": "https://localhost:8080/"
        },
        "outputId": "d750cbf4-26b8-4663-91ab-d88961aced1a"
      },
      "execution_count": null,
      "outputs": [
        {
          "output_type": "stream",
          "name": "stdout",
          "text": [
            "Facturación Tienda 1: $1384497.58\n",
            "Facturación Tienda 2: $1488459.06\n",
            "Facturación Tienda 3: $1464025.03\n",
            "Facturación Tienda 4: $1384497.58\n",
            "\n",
            "Facturación total de todas las tiendas: $5721479.25\n"
          ]
        }
      ]
    },
    {
      "cell_type": "code",
      "source": [
        "facturacion_tienda1 = loja['Preço'].astype(float).sum()\n",
        "facturacion_tienda2 = loja2['Preço'].astype(float).sum()\n",
        "facturacion_tienda3 = loja3['Preço'].astype(float).sum()\n",
        "facturacion_tienda4 = loja4['Preço'].astype(float).sum()\n",
        "\n",
        "print(f\"Facturación Tienda 1: ${facturacion_tienda1:.2f}\")\n",
        "print(f\"Facturación Tienda 2: ${facturacion_tienda2:.2f}\")\n",
        "print(f\"Facturación Tienda 3: ${facturacion_tienda3:.2f}\")\n",
        "print(f\"Facturación Tienda 4: ${facturacion_tienda4:.2f}\")\n",
        "\n",
        "facturacion_total = facturacion_tienda1 + facturacion_tienda2 + facturacion_tienda3 + facturacion_tienda4\n",
        "print(f\"\\nFacturación total de todas las tiendas: ${facturacion_total:.2f}\")\n"
      ],
      "metadata": {
        "id": "KDyr8E71V3m-",
        "colab": {
          "base_uri": "https://localhost:8080/"
        },
        "outputId": "3bc6d969-0245-4ea5-8144-c20f2a5110b1"
      },
      "execution_count": null,
      "outputs": [
        {
          "output_type": "stream",
          "name": "stdout",
          "text": [
            "Facturación Tienda 1: $1534509.12\n",
            "Facturación Tienda 2: $1488459.06\n",
            "Facturación Tienda 3: $1464025.03\n",
            "Facturación Tienda 4: $1384497.58\n",
            "\n",
            "Facturación total de todas las tiendas: $5871490.79\n"
          ]
        }
      ]
    },
    {
      "cell_type": "markdown",
      "source": [
        "# 2. Vendas por Categoria\n"
      ],
      "metadata": {
        "id": "2V_vcAPzWZmR"
      }
    },
    {
      "cell_type": "code",
      "source": [
        "def leer_csv(url):\n",
        "    datos = []\n",
        "    with urlopen(url) as respuesta:\n",
        "        lineas = respuesta.read().decode('utf-8').splitlines()\n",
        "        reader = csv.DictReader(lineas)\n",
        "        for fila in reader:\n",
        "            datos.append(fila)\n",
        "    return datos\n",
        "\n",
        "ventas_por_categoria = {}\n",
        "\n",
        "for i, url in enumerate(urls):\n",
        "    datos_tienda = leer_csv(url)\n",
        "    print(f\"\\nVentas por categoría en Tienda {i+1}:\")\n",
        "\n",
        "    categorias_tienda = {}\n",
        "\n",
        "    for venta in datos_tienda:\n",
        "        categoria = venta['Categoria do Produto']\n",
        "        precio = float(venta['Preço'])\n",
        "        cantidad = int(venta['Quantidade de parcelas'])\n",
        "        monto_venta = precio * cantidad\n",
        "\n",
        "        if categoria in categorias_tienda:\n",
        "            categorias_tienda[categoria] += monto_venta\n",
        "        else:\n",
        "            categorias_tienda[categoria] = monto_venta\n",
        "\n",
        "        if categoria in ventas_por_categoria:\n",
        "            ventas_por_categoria[categoria] += monto_venta\n",
        "        else:\n",
        "            ventas_por_categoria[categoria] = monto_venta\n",
        "\n",
        "    for categoria, monto in categorias_tienda.items():\n",
        "        print(f\"  {categoria}: ${monto:.2f}\")\n",
        "\n",
        "print(\"\\nVentas totales por categoría (todas las tiendas):\")\n",
        "for categoria, monto in ventas_por_categoria.items():\n",
        "    print(f\"  {categoria}: ${monto:.2f}\")\n",
        "\n",
        "total_general = sum(ventas_por_categoria.values())\n",
        "print(f\"\\nTotal general de ventas: ${total_general:.2f}\")"
      ],
      "metadata": {
        "id": "A34YupIuYhfF",
        "colab": {
          "base_uri": "https://localhost:8080/"
        },
        "outputId": "98158319-fb5c-4a17-c825-9b7033d83e7d"
      },
      "execution_count": null,
      "outputs": [
        {
          "output_type": "stream",
          "name": "stdout",
          "text": [
            "\n",
            "Ventas por categoría en Tienda 1:\n",
            "  eletrodomesticos: $1172119.35\n",
            "  moveis: $742172.64\n",
            "  esporte e lazer: $133411.27\n",
            "  livros: $39390.51\n",
            "  eletronicos: $1615256.00\n",
            "  instrumentos musicais: $297117.55\n",
            "  brinquedos: $72849.77\n",
            "  utilidades domesticas: $59436.05\n",
            "\n",
            "Ventas por categoría en Tienda 2:\n",
            "  moveis: $703108.03\n",
            "  instrumentos musicais: $392599.48\n",
            "  esporte e lazer: $108879.57\n",
            "  eletronicos: $1715519.72\n",
            "  utilidades domesticas: $56984.93\n",
            "  brinquedos: $62300.37\n",
            "  eletrodomesticos: $1368304.66\n",
            "  livros: $41887.42\n",
            "\n",
            "Ventas por categoría en Tienda 3:\n",
            "  eletrodomesticos: $1441845.38\n",
            "  moveis: $740123.50\n",
            "  instrumentos musicais: $333781.40\n",
            "  esporte e lazer: $164527.29\n",
            "  eletronicos: $1468443.69\n",
            "  brinquedos: $81591.72\n",
            "  utilidades domesticas: $59635.75\n",
            "  livros: $35142.69\n",
            "\n",
            "Ventas por categoría en Tienda 4:\n",
            "  eletrodomesticos: $1172119.35\n",
            "  moveis: $742172.64\n",
            "  esporte e lazer: $133411.27\n",
            "  livros: $39390.51\n",
            "  eletronicos: $1615256.00\n",
            "  instrumentos musicais: $297117.55\n",
            "  brinquedos: $72849.77\n",
            "  utilidades domesticas: $59436.05\n",
            "\n",
            "Ventas totales por categoría (todas las tiendas):\n",
            "  eletrodomesticos: $5154388.74\n",
            "  moveis: $2927576.81\n",
            "  esporte e lazer: $540229.40\n",
            "  livros: $155811.13\n",
            "  eletronicos: $6414475.41\n",
            "  instrumentos musicais: $1320615.98\n",
            "  brinquedos: $289591.63\n",
            "  utilidades domesticas: $235492.78\n",
            "\n",
            "Total general de ventas: $17038181.88\n"
          ]
        }
      ]
    },
    {
      "cell_type": "code",
      "source": [
        "def ventas_por_categoria(tienda, numero):\n",
        "    ventas = tienda.groupby('Categoria do Produto')['Preço'].sum()\n",
        "    print(f\"\\nVentas por categoría en Tienda {numero}:\")\n",
        "    print(ventas)\n",
        "\n",
        "ventas_por_categoria(loja, 1)\n",
        "ventas_por_categoria(loja2, 2)\n",
        "ventas_por_categoria(loja3, 3)\n",
        "ventas_por_categoria(loja4, 4)"
      ],
      "metadata": {
        "id": "yZR6cOjXYSk1",
        "colab": {
          "base_uri": "https://localhost:8080/"
        },
        "outputId": "9b4fd966-6155-411d-91f6-d27a79cc2e1d"
      },
      "execution_count": null,
      "outputs": [
        {
          "output_type": "stream",
          "name": "stdout",
          "text": [
            "\n",
            "Ventas por categoría en Tienda 1:\n",
            "Categoria do Produto\n",
            "brinquedos                23993.78\n",
            "eletrodomesticos         484913.36\n",
            "eletronicos              572659.23\n",
            "esporte e lazer           52387.55\n",
            "instrumentos musicais    121731.69\n",
            "livros                    11713.92\n",
            "moveis                   250178.11\n",
            "utilidades domesticas     16931.48\n",
            "Name: Preço, dtype: float64\n",
            "\n",
            "Ventas por categoría en Tienda 2:\n",
            "Categoria do Produto\n",
            "brinquedos                21262.21\n",
            "eletrodomesticos         464758.13\n",
            "eletronicos              547773.71\n",
            "esporte e lazer           46326.09\n",
            "instrumentos musicais    139987.03\n",
            "livros                    13454.35\n",
            "moveis                   235234.68\n",
            "utilidades domesticas     19662.86\n",
            "Name: Preço, dtype: float64\n",
            "\n",
            "Ventas por categoría en Tienda 3:\n",
            "Categoria do Produto\n",
            "brinquedos                25869.20\n",
            "eletrodomesticos         438984.89\n",
            "eletronicos              547699.92\n",
            "esporte e lazer           47456.10\n",
            "instrumentos musicais    103174.45\n",
            "livros                    12664.70\n",
            "moveis                   268095.56\n",
            "utilidades domesticas     20080.21\n",
            "Name: Preço, dtype: float64\n",
            "\n",
            "Ventas por categoría en Tienda 4:\n",
            "Categoria do Produto\n",
            "brinquedos                27015.67\n",
            "eletrodomesticos         377680.65\n",
            "eletronicos              545966.86\n",
            "esporte e lazer           44465.65\n",
            "instrumentos musicais    100136.50\n",
            "livros                    12427.77\n",
            "moveis                   256705.65\n",
            "utilidades domesticas     20098.83\n",
            "Name: Preço, dtype: float64\n"
          ]
        }
      ]
    },
    {
      "cell_type": "markdown",
      "source": [
        "# 3. Média de Avaliação das Lojas"
      ],
      "metadata": {
        "id": "Rq6tU_xSY3jk"
      }
    },
    {
      "cell_type": "code",
      "source": [
        "def leer_csv(url):\n",
        "    datos = []\n",
        "    with urlopen(url) as respuesta:\n",
        "        lineas = respuesta.read().decode('utf-8').splitlines()\n",
        "        reader = csv.DictReader(lineas)\n",
        "        for fila in reader:\n",
        "            datos.append(fila)\n",
        "    return datos\n",
        "\n",
        "for i, url in enumerate(urls):\n",
        "    datos_tienda = leer_csv(url)\n",
        "\n",
        "    suma_calificaciones = 0\n",
        "    cantidad_productos = 0\n",
        "\n",
        "    for producto in datos_tienda:\n",
        "        try:\n",
        "            if 'Avaliação da compra' in producto:\n",
        "                calificacion = float(producto['Avaliação da compra'])\n",
        "            elif 'Avaliação da compra' in producto:\n",
        "                calificacion = float(producto['Avaliação da compra'])\n",
        "            elif 'Avaliação da compra' in producto:\n",
        "                calificacion = float(producto['Avaliação da compra'])\n",
        "            elif 'Avaliação da compra' in producto:\n",
        "                calificacion = float(producto['Avaliação da compra'])\n",
        "            else:\n",
        "                print(f\"Claves disponibles en la tienda {i+1}:\", producto.keys())\n",
        "                raise KeyError(\"No se encontró la columna de calificación\")\n",
        "\n",
        "            suma_calificaciones += calificacion\n",
        "            cantidad_productos += 1\n",
        "        except (ValueError, KeyError) as e:\n",
        "            if isinstance(e, KeyError):\n",
        "                raise\n",
        "            continue\n",
        "\n",
        "    if cantidad_productos > 0:\n",
        "        calificacion_promedio = suma_calificaciones / cantidad_productos\n",
        "        print(f\"Calificación promedio de la Tienda {i+1}: {calificacion_promedio:.2f}\")\n",
        "    else:\n",
        "        print(f\"No se pudieron procesar calificaciones para la Tienda {i+1}\")"
      ],
      "metadata": {
        "id": "bh3jjjJwY5MU",
        "colab": {
          "base_uri": "https://localhost:8080/"
        },
        "outputId": "f2233399-93fd-41cf-8069-e7747906e866"
      },
      "execution_count": null,
      "outputs": [
        {
          "output_type": "stream",
          "name": "stdout",
          "text": [
            "Calificación promedio de la Tienda 1: 4.00\n",
            "Calificación promedio de la Tienda 2: 4.04\n",
            "Calificación promedio de la Tienda 3: 4.05\n",
            "Calificación promedio de la Tienda 4: 4.00\n"
          ]
        }
      ]
    },
    {
      "cell_type": "code",
      "source": [
        "def clasificacion_promedio(tienda, numero):\n",
        "    promedio = tienda['Avaliação da compra'].mean()\n",
        "    print(f\"Clasificación promedio en Tienda {numero}: {promedio:.2f}\")\n",
        "\n",
        "clasificacion_promedio(loja, 1)\n",
        "clasificacion_promedio(loja2, 2)\n",
        "clasificacion_promedio(loja2, 3)\n",
        "clasificacion_promedio(loja4, 4)"
      ],
      "metadata": {
        "id": "I0KkjPoTY88F",
        "colab": {
          "base_uri": "https://localhost:8080/"
        },
        "outputId": "9a377343-ee15-4581-cb5b-687db4753b71"
      },
      "execution_count": null,
      "outputs": [
        {
          "output_type": "stream",
          "name": "stdout",
          "text": [
            "Clasificación promedio en Tienda 1: 3.98\n",
            "Clasificación promedio en Tienda 2: 4.04\n",
            "Clasificación promedio en Tienda 3: 4.04\n",
            "Clasificación promedio en Tienda 4: 4.00\n"
          ]
        }
      ]
    },
    {
      "cell_type": "markdown",
      "source": [
        "# 4. Produtos Mais e Menos Vendidos"
      ],
      "metadata": {
        "id": "DmNp1KPBZCm-"
      }
    },
    {
      "cell_type": "code",
      "source": [
        "from urllib.request import urlopen\n",
        "import csv\n",
        "from collections import defaultdict\n",
        "\n",
        "def leer_csv(url):\n",
        "    datos = []\n",
        "    with urlopen(url) as respuesta:\n",
        "        lineas = respuesta.read().decode('utf-8').splitlines()\n",
        "        lector = csv.DictReader(lineas)\n",
        "        for fila in lector:\n",
        "            datos.append(fila)\n",
        "    return datos\n",
        "\n",
        "def top_productos(datos_tienda, tienda_numero):\n",
        "    ingreso_por_producto = defaultdict(float)\n",
        "\n",
        "    for venta in datos_tienda:\n",
        "        producto = venta['Produto']\n",
        "        precio = float(venta['Preço'])\n",
        "        ingreso_por_producto[producto] += precio\n",
        "\n",
        "    productos_ordenados = sorted(ingreso_por_producto.items(), key=lambda x: x[1], reverse=True)\n",
        "\n",
        "    top_mas_vendidos = productos_ordenados[:3]\n",
        "    top_menos_vendidos = productos_ordenados[-3:]\n",
        "\n",
        "    print(f\"\\nTienda {tienda_numero} - TOP 3 productos que MÁS dinero generaron:\")\n",
        "    for producto, ingreso in top_mas_vendidos:\n",
        "        print(f\"  {producto} - Ingresos: ${ingreso:.2f}\")\n",
        "\n",
        "    print(f\"\\nTienda {tienda_numero} - TOP 3 productos que MENOS dinero generaron:\")\n",
        "    for producto, ingreso in top_menos_vendidos:\n",
        "        print(f\"  {producto} - Ingresos: ${ingreso:.2f}\")\n",
        "\n",
        "for i, url in enumerate(urls, start=1):\n",
        "    datos_tienda = leer_csv(url)\n",
        "    top_productos(datos_tienda, i)"
      ],
      "metadata": {
        "id": "qoyjqijQZHfF",
        "colab": {
          "base_uri": "https://localhost:8080/"
        },
        "outputId": "3ff05e05-2611-454d-ce9f-d658694ba94a"
      },
      "execution_count": null,
      "outputs": [
        {
          "output_type": "stream",
          "name": "stdout",
          "text": [
            "\n",
            "Tienda 1 - TOP 3 productos que MÁS dinero generaron:\n",
            "  Celular Plus X42 - Ingresos: $128930.07\n",
            "  TV Led UHD 4K - Ingresos: $120393.25\n",
            "  Smart TV - Ingresos: $110387.57\n",
            "\n",
            "Tienda 1 - TOP 3 productos que MENOS dinero generaron:\n",
            "  Dinossauro Rex - Ingresos: $1143.94\n",
            "  Cubo mágico 8x8 - Ingresos: $997.38\n",
            "  Corda de pular - Ingresos: $939.74\n",
            "\n",
            "Tienda 2 - TOP 3 productos que MÁS dinero generaron:\n",
            "  Celular Plus X42 - Ingresos: $150967.83\n",
            "  TV Led UHD 4K - Ingresos: $137833.06\n",
            "  Geladeira - Ingresos: $130176.48\n",
            "\n",
            "Tienda 2 - TOP 3 productos que MENOS dinero generaron:\n",
            "  Corda de pular - Ingresos: $1142.54\n",
            "  Dinossauro Rex - Ingresos: $1027.41\n",
            "  Cubo mágico 8x8 - Ingresos: $858.22\n",
            "\n",
            "Tienda 3 - TOP 3 productos que MÁS dinero generaron:\n",
            "  Geladeira - Ingresos: $133185.99\n",
            "  TV Led UHD 4K - Ingresos: $128892.11\n",
            "  Celular Plus X42 - Ingresos: $124300.84\n",
            "\n",
            "Tienda 3 - TOP 3 productos que MENOS dinero generaron:\n",
            "  Corda de pular - Ingresos: $1137.76\n",
            "  Dinossauro Rex - Ingresos: $1060.78\n",
            "  Cubo mágico 8x8 - Ingresos: $853.81\n",
            "\n",
            "Tienda 4 - TOP 3 productos que MÁS dinero generaron:\n",
            "  Celular Plus X42 - Ingresos: $128930.07\n",
            "  TV Led UHD 4K - Ingresos: $120393.25\n",
            "  Smart TV - Ingresos: $110387.57\n",
            "\n",
            "Tienda 4 - TOP 3 productos que MENOS dinero generaron:\n",
            "  Dinossauro Rex - Ingresos: $1143.94\n",
            "  Cubo mágico 8x8 - Ingresos: $997.38\n",
            "  Corda de pular - Ingresos: $939.74\n"
          ]
        }
      ]
    },
    {
      "cell_type": "code",
      "source": [
        "df_total = pd.concat(\n",
        "    [pd.read_csv(url).assign(Tienda=f\"Tienda {i+1}\") for i, url in enumerate(urls)],\n",
        "    ignore_index=True\n",
        ")\n",
        "\n",
        "df_total['Preço'] = df_total['Preço'].astype(float)\n",
        "df_total['Quantidade de parcelas'] = df_total['Quantidade de parcelas'].astype(int)\n",
        "\n",
        "df_total['Ingreso'] = df_total['Preço']\n",
        "\n",
        "ventas = df_total.groupby(['Tienda', 'Produto'])['Ingreso'].sum().reset_index()\n",
        "\n",
        "def top_productos(tienda):\n",
        "    data = ventas[ventas['Tienda'] == tienda]\n",
        "\n",
        "    top_mas_vendidos = data.sort_values(by='Ingreso', ascending=False).head(3)\n",
        "    top_menos_vendidos = data.sort_values(by='Ingreso', ascending=True).head(3)\n",
        "\n",
        "    print(f\"\\n{tienda} - TOP 3 productos que MÁS dinero generaron:\")\n",
        "    for _, fila in top_mas_vendidos.iterrows():\n",
        "        print(f\"  {fila['Produto']} - Ingresos: ${fila['Ingreso']:.2f}\")\n",
        "\n",
        "    print(f\"\\n{tienda} - TOP 3 productos que MENOS dinero generaron:\")\n",
        "    for _, fila in top_menos_vendidos.iterrows():\n",
        "         print(f\"  {fila['Produto']} - Ingresos: ${fila['Ingreso']:.2f}\")\n",
        "\n",
        "tiendas_unicas = ventas['Tienda'].unique()\n",
        "\n",
        "for tienda in tiendas_unicas:\n",
        "    top_productos(tienda)"
      ],
      "metadata": {
        "id": "0Sw3sd4IZIGW",
        "colab": {
          "base_uri": "https://localhost:8080/"
        },
        "outputId": "841987b8-4eb3-424e-ac25-b52a9460e2da"
      },
      "execution_count": null,
      "outputs": [
        {
          "output_type": "stream",
          "name": "stdout",
          "text": [
            "\n",
            "Tienda 1 - TOP 3 productos que MÁS dinero generaron:\n",
            "  Celular Plus X42 - Ingresos: $128930.07\n",
            "  TV Led UHD 4K - Ingresos: $120393.25\n",
            "  Smart TV - Ingresos: $110387.57\n",
            "\n",
            "Tienda 1 - TOP 3 productos que MENOS dinero generaron:\n",
            "  Corda de pular - Ingresos: $939.74\n",
            "  Cubo mágico 8x8 - Ingresos: $997.38\n",
            "  Dinossauro Rex - Ingresos: $1143.94\n",
            "\n",
            "Tienda 2 - TOP 3 productos que MÁS dinero generaron:\n",
            "  Celular Plus X42 - Ingresos: $150967.83\n",
            "  TV Led UHD 4K - Ingresos: $137833.06\n",
            "  Geladeira - Ingresos: $130176.48\n",
            "\n",
            "Tienda 2 - TOP 3 productos que MENOS dinero generaron:\n",
            "  Cubo mágico 8x8 - Ingresos: $858.22\n",
            "  Dinossauro Rex - Ingresos: $1027.41\n",
            "  Corda de pular - Ingresos: $1142.54\n",
            "\n",
            "Tienda 3 - TOP 3 productos que MÁS dinero generaron:\n",
            "  Geladeira - Ingresos: $133185.99\n",
            "  TV Led UHD 4K - Ingresos: $128892.11\n",
            "  Celular Plus X42 - Ingresos: $124300.84\n",
            "\n",
            "Tienda 3 - TOP 3 productos que MENOS dinero generaron:\n",
            "  Cubo mágico 8x8 - Ingresos: $853.81\n",
            "  Dinossauro Rex - Ingresos: $1060.78\n",
            "  Corda de pular - Ingresos: $1137.76\n",
            "\n",
            "Tienda 4 - TOP 3 productos que MÁS dinero generaron:\n",
            "  Celular Plus X42 - Ingresos: $128930.07\n",
            "  TV Led UHD 4K - Ingresos: $120393.25\n",
            "  Smart TV - Ingresos: $110387.57\n",
            "\n",
            "Tienda 4 - TOP 3 productos que MENOS dinero generaron:\n",
            "  Corda de pular - Ingresos: $939.74\n",
            "  Cubo mágico 8x8 - Ingresos: $997.38\n",
            "  Dinossauro Rex - Ingresos: $1143.94\n"
          ]
        }
      ]
    },
    {
      "cell_type": "markdown",
      "source": [
        "# 5. Frete Médio por Loja\n"
      ],
      "metadata": {
        "id": "Fl0cGi3bZKqU"
      }
    },
    {
      "cell_type": "code",
      "source": [
        "def calcular_envio_promedio(datos_tienda, tienda_numero):\n",
        "    costos_envio = []\n",
        "\n",
        "    for venta in datos_tienda:\n",
        "        costo_envio = float(venta['Frete'])\n",
        "        costos_envio.append(costo_envio)\n",
        "\n",
        "    promedio_envio = sum(costos_envio) / len(costos_envio) if costos_envio else 0\n",
        "\n",
        "    print(f\"Tienda {tienda_numero} - Envío promedio: ${promedio_envio:.2f}\")\n",
        "\n",
        "for i, url in enumerate(urls, start=1):\n",
        "    datos_tienda = leer_csv(url)\n",
        "    calcular_envio_promedio(datos_tienda, i)"
      ],
      "metadata": {
        "id": "S2JeaCykZNy9",
        "colab": {
          "base_uri": "https://localhost:8080/"
        },
        "outputId": "4e3f5e33-20bc-4942-d172-b2e4c592d7db"
      },
      "execution_count": null,
      "outputs": [
        {
          "output_type": "stream",
          "name": "stdout",
          "text": [
            "Tienda 1 - Envío promedio: $31.28\n",
            "Tienda 2 - Envío promedio: $33.62\n",
            "Tienda 3 - Envío promedio: $33.07\n",
            "Tienda 4 - Envío promedio: $31.28\n"
          ]
        }
      ]
    },
    {
      "cell_type": "code",
      "source": [
        "df_total['Frete'] = df_total['Frete'].astype(float)\n",
        "\n",
        "envio_promedio = df_total.groupby('Tienda')['Frete'].mean()\n",
        "\n",
        "# Mostrar resultados\n",
        "print(\"\\nEnvío promedio por tienda:\")\n",
        "for tienda, promedio in envio_promedio.items():\n",
        "    print(f\"{tienda}: ${promedio:.2f}\")"
      ],
      "metadata": {
        "id": "0tSdCie9ZQlt",
        "colab": {
          "base_uri": "https://localhost:8080/"
        },
        "outputId": "d06bea1b-c2be-473c-a386-80d13c05284e"
      },
      "execution_count": null,
      "outputs": [
        {
          "output_type": "stream",
          "name": "stdout",
          "text": [
            "\n",
            "Envío promedio por tienda:\n",
            "Tienda 1: $31.28\n",
            "Tienda 2: $33.62\n",
            "Tienda 3: $33.07\n",
            "Tienda 4: $31.28\n"
          ]
        }
      ]
    },
    {
      "cell_type": "code",
      "source": [
        "import matplotlib.pyplot as plt\n",
        "\n",
        "df_total['Preço'] = df_total['Preço'].astype(float)\n",
        "\n",
        "df_total['Preço'] = df_total['Preço'].astype(float)\n",
        "\n",
        "df_total['Ingreso'] = df_total['Preço']\n",
        "\n",
        "ingresos_totales = df_total.groupby('Tienda')['Ingreso'].sum()\n",
        "ingreso_promedio = df_total.groupby('Tienda')['Ingreso'].mean()\n",
        "distribucion_ingresos = ingresos_totales\n",
        "\n",
        "plt.figure(figsize=(8,5))\n",
        "ingresos_totales.plot(kind='bar')\n",
        "plt.title('Ingresos Totales por Tienda')\n",
        "plt.ylabel('Total Ingresos (USD)')\n",
        "plt.xlabel('Tienda')\n",
        "plt.grid(axis='y')\n",
        "plt.tight_layout()\n",
        "plt.show()\n",
        "\n",
        "plt.figure(figsize=(8,5))\n",
        "ingreso_promedio.plot(kind='line', marker='o', linestyle='--', color='orange')\n",
        "plt.title('Ingreso Promedio por Venta por Tienda')\n",
        "plt.ylabel('Ingreso Promedio (USD)')\n",
        "plt.xlabel('Tienda')\n",
        "plt.grid(True)\n",
        "plt.tight_layout()\n",
        "plt.show()\n",
        "\n",
        "plt.figure(figsize=(7,7))\n",
        "distribucion_ingresos.plot(kind='pie', autopct='%1.1f%%', startangle=90)\n",
        "plt.title('Participación de Cada Tienda en el Total de Ingresos')\n",
        "plt.ylabel('')\n",
        "plt.tight_layout()\n",
        "plt.show()"
      ],
      "metadata": {
        "id": "etXNPxrVPFRo",
        "colab": {
          "base_uri": "https://localhost:8080/",
          "height": 1000
        },
        "outputId": "2325c1c4-c483-4edb-b7e1-4afe83b71520"
      },
      "execution_count": null,
      "outputs": [
        {
          "output_type": "display_data",
          "data": {
            "text/plain": [
              "<Figure size 800x500 with 1 Axes>"
            ],
            "image/png": "[encoded data removed]"
          },
          "metadata": {}
        },
        {
          "output_type": "display_data",
          "data": {
            "text/plain": [
              "<Figure size 800x500 with 1 Axes>"
            ],
            "image/png": "[encoded data removed]"
          },
          "metadata": {}
        },
        {
          "output_type": "display_data",
          "data": {
            "text/plain": [
              "<Figure size 700x700 with 1 Axes>"
            ],
            "image/png": "[encoded data removed]"
          },
          "metadata": {}
        }
      ]
    }
  ]
}